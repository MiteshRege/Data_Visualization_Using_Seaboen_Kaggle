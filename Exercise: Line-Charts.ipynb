{
 "cells": [
  {
   "cell_type": "markdown",
   "id": "26e20078",
   "metadata": {
    "papermill": {
     "duration": 0.017118,
     "end_time": "2022-01-20T18:05:57.753972",
     "exception": false,
     "start_time": "2022-01-20T18:05:57.736854",
     "status": "completed"
    },
    "tags": []
   },
   "source": [
    "**This notebook is an exercise in the [Data Visualization](https://www.kaggle.com/learn/data-visualization) course.  You can reference the tutorial at [this link](https://www.kaggle.com/alexisbcook/line-charts).**\n",
    "\n",
    "---\n"
   ]
  },
  {
   "cell_type": "markdown",
   "id": "2af96a2e",
   "metadata": {
    "papermill": {
     "duration": 0.017054,
     "end_time": "2022-01-20T18:05:57.790527",
     "exception": false,
     "start_time": "2022-01-20T18:05:57.773473",
     "status": "completed"
    },
    "tags": []
   },
   "source": [
    "In this exercise, you will use your new knowledge to propose a solution to a real-world scenario. To succeed, you will need to import data into Python, answer questions using the data, and generate **line charts** to understand patterns in the data.\n",
    "\n",
    "## Scenario\n",
    "\n",
    "You have recently been hired to manage the museums in the City of Los Angeles. Your first project focuses on the four museums pictured in the images below.\n",
    "\n",
    "![ex1_museums](https://i.imgur.com/pFYL8J1.png)\n",
    "\n",
    "You will leverage data from the Los Angeles [Data Portal](https://data.lacity.org/) that tracks monthly visitors to each museum.  \n",
    "\n",
    "![ex1_xlsx](https://i.imgur.com/mGWYlym.png)\n",
    "\n",
    "## Setup\n",
    "\n",
    "Run the next cell to import and configure the Python libraries that you need to complete the exercise."
   ]
  },
  {
   "cell_type": "code",
   "execution_count": 1,
   "id": "1354f99c",
   "metadata": {
    "execution": {
     "iopub.execute_input": "2022-01-20T18:05:57.834769Z",
     "iopub.status.busy": "2022-01-20T18:05:57.833798Z",
     "iopub.status.idle": "2022-01-20T18:05:58.999989Z",
     "shell.execute_reply": "2022-01-20T18:05:58.999160Z",
     "shell.execute_reply.started": "2022-01-19T17:05:49.018571Z"
    },
    "papermill": {
     "duration": 1.193408,
     "end_time": "2022-01-20T18:05:59.000246",
     "exception": false,
     "start_time": "2022-01-20T18:05:57.806838",
     "status": "completed"
    },
    "tags": []
   },
   "outputs": [
    {
     "name": "stdout",
     "output_type": "stream",
     "text": [
      "Setup Complete\n"
     ]
    }
   ],
   "source": [
    "import pandas as pd\n",
    "pd.plotting.register_matplotlib_converters()\n",
    "import matplotlib.pyplot as plt\n",
    "%matplotlib inline\n",
    "import seaborn as sns\n",
    "print(\"Setup Complete\")"
   ]
  },
  {
   "cell_type": "markdown",
   "id": "a33ac878",
   "metadata": {
    "papermill": {
     "duration": 0.016269,
     "end_time": "2022-01-20T18:05:59.033663",
     "exception": false,
     "start_time": "2022-01-20T18:05:59.017394",
     "status": "completed"
    },
    "tags": []
   },
   "source": [
    "The questions below will give you feedback on your work. Run the following cell to set up the feedback system."
   ]
  },
  {
   "cell_type": "code",
   "execution_count": 2,
   "id": "eb657882",
   "metadata": {
    "execution": {
     "iopub.execute_input": "2022-01-20T18:05:59.072813Z",
     "iopub.status.busy": "2022-01-20T18:05:59.072097Z",
     "iopub.status.idle": "2022-01-20T18:05:59.139852Z",
     "shell.execute_reply": "2022-01-20T18:05:59.139020Z",
     "shell.execute_reply.started": "2022-01-19T17:05:55.087134Z"
    },
    "papermill": {
     "duration": 0.090017,
     "end_time": "2022-01-20T18:05:59.140063",
     "exception": false,
     "start_time": "2022-01-20T18:05:59.050046",
     "status": "completed"
    },
    "tags": []
   },
   "outputs": [
    {
     "name": "stdout",
     "output_type": "stream",
     "text": [
      "Setup Complete\n"
     ]
    }
   ],
   "source": [
    "# Set up code checking\n",
    "import os\n",
    "if not os.path.exists(\"../input/museum_visitors.csv\"):\n",
    "    os.symlink(\"../input/data-for-datavis/museum_visitors.csv\", \"../input/museum_visitors.csv\") \n",
    "from learntools.core import binder\n",
    "binder.bind(globals())\n",
    "from learntools.data_viz_to_coder.ex2 import *\n",
    "print(\"Setup Complete\")"
   ]
  },
  {
   "cell_type": "markdown",
   "id": "33a23d7e",
   "metadata": {
    "papermill": {
     "duration": 0.016628,
     "end_time": "2022-01-20T18:05:59.176405",
     "exception": false,
     "start_time": "2022-01-20T18:05:59.159777",
     "status": "completed"
    },
    "tags": []
   },
   "source": [
    "## Step 1: Load the data\n",
    "\n",
    "Your first assignment is to read the LA Museum Visitors data file into `museum_data`.  Note that:\n",
    "- The filepath to the dataset is stored as `museum_filepath`.  Please **do not** change the provided value of the filepath.\n",
    "- The name of the column to use as row labels is `\"Date\"`.  (This can be seen in cell A1 when the file is opened in Excel.)\n",
    "\n",
    "To help with this, you may find it useful to revisit some relevant code from the tutorial, which we have pasted below:\n",
    "\n",
    "```python\n",
    "# Path of the file to read\n",
    "spotify_filepath = \"../input/spotify.csv\"\n",
    "\n",
    "# Read the file into a variable spotify_data\n",
    "spotify_data = pd.read_csv(spotify_filepath, index_col=\"Date\", parse_dates=True)\n",
    "```\n",
    "\n",
    "The code you need to write now looks very similar!"
   ]
  },
  {
   "cell_type": "code",
   "execution_count": 3,
   "id": "3ef319ae",
   "metadata": {
    "execution": {
     "iopub.execute_input": "2022-01-20T18:05:59.216492Z",
     "iopub.status.busy": "2022-01-20T18:05:59.215400Z",
     "iopub.status.idle": "2022-01-20T18:05:59.228050Z",
     "shell.execute_reply": "2022-01-20T18:05:59.228555Z",
     "shell.execute_reply.started": "2022-01-19T17:08:30.182273Z"
    },
    "papermill": {
     "duration": 0.035601,
     "end_time": "2022-01-20T18:05:59.228748",
     "exception": false,
     "start_time": "2022-01-20T18:05:59.193147",
     "status": "completed"
    },
    "tags": []
   },
   "outputs": [
    {
     "data": {
      "application/javascript": [
       "parent.postMessage({\"jupyterEvent\": \"custom.exercise_interaction\", \"data\": {\"outcomeType\": 1, \"valueTowardsCompletion\": 0.3333333333333333, \"interactionType\": 1, \"questionType\": 1, \"questionId\": \"1_LoadMuseumData\", \"learnToolsVersion\": \"0.3.4\", \"failureMessage\": \"\", \"exceptionClass\": \"\", \"trace\": \"\"}}, \"*\")"
      ],
      "text/plain": [
       "<IPython.core.display.Javascript object>"
      ]
     },
     "metadata": {},
     "output_type": "display_data"
    },
    {
     "data": {
      "text/markdown": [
       "<span style=\"color:#33cc33\">Correct</span>"
      ],
      "text/plain": [
       "Correct"
      ]
     },
     "metadata": {},
     "output_type": "display_data"
    }
   ],
   "source": [
    "# Path of the file to read\n",
    "museum_filepath = \"../input/museum_visitors.csv\"\n",
    "\n",
    "# Fill in the line below to read the file into a variable museum_data\n",
    "museum_data = pd.read_csv(museum_filepath,index_col=\"Date\", parse_dates=True)\n",
    "# index_col -  is actually col to be used as a row label\n",
    "\n",
    "# Run the line below with no changes to check that you've loaded the data correctly\n",
    "step_1.check()"
   ]
  },
  {
   "cell_type": "code",
   "execution_count": 4,
   "id": "8d3b6166",
   "metadata": {
    "execution": {
     "iopub.execute_input": "2022-01-20T18:05:59.267793Z",
     "iopub.status.busy": "2022-01-20T18:05:59.267109Z",
     "iopub.status.idle": "2022-01-20T18:05:59.269880Z",
     "shell.execute_reply": "2022-01-20T18:05:59.270378Z"
    },
    "papermill": {
     "duration": 0.023906,
     "end_time": "2022-01-20T18:05:59.270566",
     "exception": false,
     "start_time": "2022-01-20T18:05:59.246660",
     "status": "completed"
    },
    "tags": []
   },
   "outputs": [],
   "source": [
    "# Uncomment the line below to receive a hint\n",
    "#step_1.hint()\n",
    "# Uncomment the line below to see the solution\n",
    "#step_1.solution()"
   ]
  },
  {
   "cell_type": "markdown",
   "id": "cdc97dd8",
   "metadata": {
    "papermill": {
     "duration": 0.018787,
     "end_time": "2022-01-20T18:05:59.308037",
     "exception": false,
     "start_time": "2022-01-20T18:05:59.289250",
     "status": "completed"
    },
    "tags": []
   },
   "source": [
    "## Step 2: Review the data\n",
    "\n",
    "Use a Python command to print the last 5 rows of the data."
   ]
  },
  {
   "cell_type": "code",
   "execution_count": 5,
   "id": "44b1d0ab",
   "metadata": {
    "execution": {
     "iopub.execute_input": "2022-01-20T18:05:59.347700Z",
     "iopub.status.busy": "2022-01-20T18:05:59.347025Z",
     "iopub.status.idle": "2022-01-20T18:05:59.360694Z",
     "shell.execute_reply": "2022-01-20T18:05:59.361175Z",
     "shell.execute_reply.started": "2022-01-19T17:08:47.448327Z"
    },
    "papermill": {
     "duration": 0.035568,
     "end_time": "2022-01-20T18:05:59.361367",
     "exception": false,
     "start_time": "2022-01-20T18:05:59.325799",
     "status": "completed"
    },
    "tags": []
   },
   "outputs": [
    {
     "data": {
      "text/html": [
       "<div>\n",
       "<style scoped>\n",
       "    .dataframe tbody tr th:only-of-type {\n",
       "        vertical-align: middle;\n",
       "    }\n",
       "\n",
       "    .dataframe tbody tr th {\n",
       "        vertical-align: top;\n",
       "    }\n",
       "\n",
       "    .dataframe thead th {\n",
       "        text-align: right;\n",
       "    }\n",
       "</style>\n",
       "<table border=\"1\" class=\"dataframe\">\n",
       "  <thead>\n",
       "    <tr style=\"text-align: right;\">\n",
       "      <th></th>\n",
       "      <th>Avila Adobe</th>\n",
       "      <th>Firehouse Museum</th>\n",
       "      <th>Chinese American Museum</th>\n",
       "      <th>America Tropical Interpretive Center</th>\n",
       "    </tr>\n",
       "    <tr>\n",
       "      <th>Date</th>\n",
       "      <th></th>\n",
       "      <th></th>\n",
       "      <th></th>\n",
       "      <th></th>\n",
       "    </tr>\n",
       "  </thead>\n",
       "  <tbody>\n",
       "    <tr>\n",
       "      <th>2018-07-01</th>\n",
       "      <td>23136</td>\n",
       "      <td>4191</td>\n",
       "      <td>2620</td>\n",
       "      <td>4718</td>\n",
       "    </tr>\n",
       "    <tr>\n",
       "      <th>2018-08-01</th>\n",
       "      <td>20815</td>\n",
       "      <td>4866</td>\n",
       "      <td>2409</td>\n",
       "      <td>3891</td>\n",
       "    </tr>\n",
       "    <tr>\n",
       "      <th>2018-09-01</th>\n",
       "      <td>21020</td>\n",
       "      <td>4956</td>\n",
       "      <td>2146</td>\n",
       "      <td>3180</td>\n",
       "    </tr>\n",
       "    <tr>\n",
       "      <th>2018-10-01</th>\n",
       "      <td>19280</td>\n",
       "      <td>4622</td>\n",
       "      <td>2364</td>\n",
       "      <td>3775</td>\n",
       "    </tr>\n",
       "    <tr>\n",
       "      <th>2018-11-01</th>\n",
       "      <td>17163</td>\n",
       "      <td>4082</td>\n",
       "      <td>2385</td>\n",
       "      <td>4562</td>\n",
       "    </tr>\n",
       "  </tbody>\n",
       "</table>\n",
       "</div>"
      ],
      "text/plain": [
       "            Avila Adobe  Firehouse Museum  Chinese American Museum  \\\n",
       "Date                                                                 \n",
       "2018-07-01        23136              4191                     2620   \n",
       "2018-08-01        20815              4866                     2409   \n",
       "2018-09-01        21020              4956                     2146   \n",
       "2018-10-01        19280              4622                     2364   \n",
       "2018-11-01        17163              4082                     2385   \n",
       "\n",
       "            America Tropical Interpretive Center  \n",
       "Date                                              \n",
       "2018-07-01                                  4718  \n",
       "2018-08-01                                  3891  \n",
       "2018-09-01                                  3180  \n",
       "2018-10-01                                  3775  \n",
       "2018-11-01                                  4562  "
      ]
     },
     "execution_count": 5,
     "metadata": {},
     "output_type": "execute_result"
    }
   ],
   "source": [
    "# Print the last five rows of the data \n",
    "museum_data.tail()"
   ]
  },
  {
   "cell_type": "markdown",
   "id": "a2b08e97",
   "metadata": {
    "papermill": {
     "duration": 0.01784,
     "end_time": "2022-01-20T18:05:59.398284",
     "exception": false,
     "start_time": "2022-01-20T18:05:59.380444",
     "status": "completed"
    },
    "tags": []
   },
   "source": [
    "The last row (for `2018-11-01`) tracks the number of visitors to each museum in November 2018, the next-to-last row (for `2018-10-01`) tracks the number of visitors to each museum in October 2018, _and so on_.\n",
    "\n",
    "Use the last 5 rows of the data to answer the questions below."
   ]
  },
  {
   "cell_type": "code",
   "execution_count": 6,
   "id": "bb598f3a",
   "metadata": {
    "execution": {
     "iopub.execute_input": "2022-01-20T18:05:59.438560Z",
     "iopub.status.busy": "2022-01-20T18:05:59.437862Z",
     "iopub.status.idle": "2022-01-20T18:05:59.455438Z",
     "shell.execute_reply": "2022-01-20T18:05:59.455969Z",
     "shell.execute_reply.started": "2022-01-19T17:12:05.953624Z"
    },
    "papermill": {
     "duration": 0.03965,
     "end_time": "2022-01-20T18:05:59.456163",
     "exception": false,
     "start_time": "2022-01-20T18:05:59.416513",
     "status": "completed"
    },
    "tags": []
   },
   "outputs": [
    {
     "data": {
      "application/javascript": [
       "parent.postMessage({\"jupyterEvent\": \"custom.exercise_interaction\", \"data\": {\"outcomeType\": 1, \"valueTowardsCompletion\": 0.3333333333333333, \"interactionType\": 1, \"questionType\": 1, \"questionId\": \"2_ReviewData\", \"learnToolsVersion\": \"0.3.4\", \"failureMessage\": \"\", \"exceptionClass\": \"\", \"trace\": \"\"}}, \"*\")"
      ],
      "text/plain": [
       "<IPython.core.display.Javascript object>"
      ]
     },
     "metadata": {},
     "output_type": "display_data"
    },
    {
     "data": {
      "text/markdown": [
       "<span style=\"color:#33cc33\">Correct</span>"
      ],
      "text/plain": [
       "Correct"
      ]
     },
     "metadata": {},
     "output_type": "display_data"
    }
   ],
   "source": [
    "# Fill in the line below: How many visitors did the Chinese American Museum \n",
    "# receive in July 2018?\n",
    "# ca_museum_jul18 =  museum_data.iloc[-5,2]\n",
    "# or  ca_museum_jul18 =  museum_data.iloc[-5]['Chinese American Museum']\n",
    "ca_museum_jul18 =  museum_data.loc['2018-07-01']['Chinese American Museum']\n",
    "\n",
    "# Fill in the line below: In October 2018, how many more visitors did Avila \n",
    "# Adobe receive than the Firehouse Museum?\n",
    "avila_oct18 = museum_data.iloc[-2]['Avila Adobe'] - museum_data.iloc[-2]['Firehouse Museum']\n",
    "\n",
    "# Check your answers\n",
    "step_2.check()"
   ]
  },
  {
   "cell_type": "code",
   "execution_count": 7,
   "id": "3211deea",
   "metadata": {
    "execution": {
     "iopub.execute_input": "2022-01-20T18:05:59.498471Z",
     "iopub.status.busy": "2022-01-20T18:05:59.497840Z",
     "iopub.status.idle": "2022-01-20T18:05:59.500832Z",
     "shell.execute_reply": "2022-01-20T18:05:59.501386Z"
    },
    "papermill": {
     "duration": 0.025599,
     "end_time": "2022-01-20T18:05:59.501559",
     "exception": false,
     "start_time": "2022-01-20T18:05:59.475960",
     "status": "completed"
    },
    "tags": []
   },
   "outputs": [],
   "source": [
    "# Lines below will give you a hint or solution code\n",
    "# step_2.hint()\n",
    "# step_2.solution()"
   ]
  },
  {
   "cell_type": "markdown",
   "id": "dd229d9c",
   "metadata": {
    "papermill": {
     "duration": 0.019208,
     "end_time": "2022-01-20T18:05:59.540678",
     "exception": false,
     "start_time": "2022-01-20T18:05:59.521470",
     "status": "completed"
    },
    "tags": []
   },
   "source": [
    "## Step 3: Convince the museum board \n",
    "\n",
    "The Firehouse Museum claims they ran an event in 2014 that brought an incredible number of visitors, and that they should get extra budget to run a similar event again.  The other museums think these types of events aren't that important, and budgets should be split purely based on recent visitors on an average day.  \n",
    "\n",
    "To show the museum board how the event compared to regular traffic at each museum, create a line chart that shows how the number of visitors to each museum evolved over time.  Your figure should have four lines (one for each museum).\n",
    "\n",
    "> **(Optional) Note**: If you have some prior experience with plotting figures in Python, you might be familiar with the `plt.show()` command.  If you decide to use this command, please place it **after** the line of code that checks your answer (in this case, place it after `step_3.check()` below) -- otherwise, the checking code will return an error!"
   ]
  },
  {
   "cell_type": "code",
   "execution_count": 8,
   "id": "26825fbf",
   "metadata": {
    "execution": {
     "iopub.execute_input": "2022-01-20T18:05:59.582806Z",
     "iopub.status.busy": "2022-01-20T18:05:59.582051Z",
     "iopub.status.idle": "2022-01-20T18:06:00.025229Z",
     "shell.execute_reply": "2022-01-20T18:06:00.025803Z",
     "shell.execute_reply.started": "2022-01-19T17:14:37.708958Z"
    },
    "papermill": {
     "duration": 0.465985,
     "end_time": "2022-01-20T18:06:00.026014",
     "exception": false,
     "start_time": "2022-01-20T18:05:59.560029",
     "status": "completed"
    },
    "tags": []
   },
   "outputs": [
    {
     "data": {
      "application/javascript": [
       "parent.postMessage({\"jupyterEvent\": \"custom.exercise_interaction\", \"data\": {\"outcomeType\": 1, \"valueTowardsCompletion\": 0.3333333333333333, \"interactionType\": 1, \"questionType\": 2, \"questionId\": \"3_PlotAll\", \"learnToolsVersion\": \"0.3.4\", \"failureMessage\": \"\", \"exceptionClass\": \"\", \"trace\": \"\"}}, \"*\")"
      ],
      "text/plain": [
       "<IPython.core.display.Javascript object>"
      ]
     },
     "metadata": {},
     "output_type": "display_data"
    },
    {
     "data": {
      "text/markdown": [
       "<span style=\"color:#33cc33\">Correct</span>"
      ],
      "text/plain": [
       "Correct"
      ]
     },
     "metadata": {},
     "output_type": "display_data"
    },
    {
     "data": {
      "image/png": "[encoded data removed]",
      "text/plain": [
       "<Figure size 720x576 with 1 Axes>"
      ]
     },
     "metadata": {
      "needs_background": "light"
     },
     "output_type": "display_data"
    }
   ],
   "source": [
    "# Line chart showing the number of visitors to each museum over time\n",
    "plt.figure(figsize=(10,8))\n",
    "sns.lineplot(data=museum_data)\n",
    "\n",
    "# Check your answer\n",
    "step_3.check()\n",
    "plt.show()"
   ]
  },
  {
   "cell_type": "code",
   "execution_count": 9,
   "id": "8ec5ba4f",
   "metadata": {
    "execution": {
     "iopub.execute_input": "2022-01-20T18:06:00.078690Z",
     "iopub.status.busy": "2022-01-20T18:06:00.077575Z",
     "iopub.status.idle": "2022-01-20T18:06:00.080831Z",
     "shell.execute_reply": "2022-01-20T18:06:00.080211Z"
    },
    "papermill": {
     "duration": 0.031505,
     "end_time": "2022-01-20T18:06:00.080982",
     "exception": false,
     "start_time": "2022-01-20T18:06:00.049477",
     "status": "completed"
    },
    "tags": []
   },
   "outputs": [],
   "source": [
    "# Lines below will give you a hint or solution code\n",
    "#step_3.hint()\n",
    "# step_3.solution_plot()"
   ]
  },
  {
   "cell_type": "markdown",
   "id": "19bde00f",
   "metadata": {
    "papermill": {
     "duration": 0.02545,
     "end_time": "2022-01-20T18:06:00.130456",
     "exception": false,
     "start_time": "2022-01-20T18:06:00.105006",
     "status": "completed"
    },
    "tags": []
   },
   "source": [
    "## Step 4: Assess seasonality\n",
    "\n",
    "When meeting with the employees at Avila Adobe, you hear that one major pain point is that the number of museum visitors varies greatly with the seasons, with low seasons (when the employees are perfectly staffed and happy) and also high seasons (when the employees are understaffed and stressed).  You realize that if you can predict these high and low seasons, you can plan ahead to hire some additional seasonal employees to help out with the extra work.\n",
    "\n",
    "#### Part A\n",
    "Create a line chart that shows how the number of visitors to Avila Adobe has evolved over time.  (_If your code returns an error, the first thing that you should check is that you've spelled the name of the column correctly!  You must write the name of the column exactly as it appears in the dataset._)"
   ]
  },
  {
   "cell_type": "code",
   "execution_count": 10,
   "id": "d07b4504",
   "metadata": {
    "execution": {
     "iopub.execute_input": "2022-01-20T18:06:00.198254Z",
     "iopub.status.busy": "2022-01-20T18:06:00.197200Z",
     "iopub.status.idle": "2022-01-20T18:06:00.448913Z",
     "shell.execute_reply": "2022-01-20T18:06:00.448209Z",
     "shell.execute_reply.started": "2022-01-19T17:16:48.22246Z"
    },
    "papermill": {
     "duration": 0.293299,
     "end_time": "2022-01-20T18:06:00.449078",
     "exception": false,
     "start_time": "2022-01-20T18:06:00.155779",
     "status": "completed"
    },
    "tags": []
   },
   "outputs": [
    {
     "name": "stdout",
     "output_type": "stream",
     "text": [
      "Thank you for creating a line chart!  To see how your code compares to the official solution, please use the code cell below.\n"
     ]
    },
    {
     "data": {
      "application/javascript": [
       "parent.postMessage({\"jupyterEvent\": \"custom.exercise_interaction\", \"data\": {\"outcomeType\": 1, \"valueTowardsCompletion\": 0.3333333333333333, \"interactionType\": 1, \"questionType\": 2, \"questionId\": \"4.1_PlotAvila\", \"learnToolsVersion\": \"0.3.4\", \"failureMessage\": \"\", \"exceptionClass\": \"\", \"trace\": \"\"}}, \"*\")"
      ],
      "text/plain": [
       "<IPython.core.display.Javascript object>"
      ]
     },
     "metadata": {},
     "output_type": "display_data"
    },
    {
     "data": {
      "text/markdown": [
       "<span style=\"color:#33cc33\">Correct</span>"
      ],
      "text/plain": [
       "Correct"
      ]
     },
     "metadata": {},
     "output_type": "display_data"
    },
    {
     "data": {
      "image/png": "[encoded data removed]",
      "text/plain": [
       "<Figure size 720x576 with 1 Axes>"
      ]
     },
     "metadata": {
      "needs_background": "light"
     },
     "output_type": "display_data"
    }
   ],
   "source": [
    "# Line plot showing the number of visitors to Avila Adobe over time\n",
    "plt.figure(figsize=(10,8))\n",
    "sns.lineplot(data=museum_data['Avila Adobe'])\n",
    "\n",
    "\n",
    "# Check your answer\n",
    "step_4.a.check()"
   ]
  },
  {
   "cell_type": "code",
   "execution_count": 11,
   "id": "e90040f8",
   "metadata": {
    "execution": {
     "iopub.execute_input": "2022-01-20T18:06:00.507507Z",
     "iopub.status.busy": "2022-01-20T18:06:00.506835Z",
     "iopub.status.idle": "2022-01-20T18:06:00.508946Z",
     "shell.execute_reply": "2022-01-20T18:06:00.509484Z"
    },
    "papermill": {
     "duration": 0.033216,
     "end_time": "2022-01-20T18:06:00.509682",
     "exception": false,
     "start_time": "2022-01-20T18:06:00.476466",
     "status": "completed"
    },
    "tags": []
   },
   "outputs": [],
   "source": [
    "# Lines below will give you a hint or solution code\n",
    "#step_4.a.hint()\n",
    "#step_4.a.solution_plot()"
   ]
  },
  {
   "cell_type": "markdown",
   "id": "ed95b460",
   "metadata": {
    "papermill": {
     "duration": 0.025682,
     "end_time": "2022-01-20T18:06:00.561893",
     "exception": false,
     "start_time": "2022-01-20T18:06:00.536211",
     "status": "completed"
    },
    "tags": []
   },
   "source": [
    "#### Part B\n",
    "\n",
    "Does Avila Adobe get more visitors:\n",
    "- in September-February (in LA, the fall and winter months), or \n",
    "- in March-August (in LA, the spring and summer)?  \n",
    "\n",
    "Using this information, when should the museum staff additional seasonal employees?"
   ]
  },
  {
   "cell_type": "code",
   "execution_count": 12,
   "id": "c0f8a317",
   "metadata": {
    "execution": {
     "iopub.execute_input": "2022-01-20T18:06:00.620735Z",
     "iopub.status.busy": "2022-01-20T18:06:00.619660Z",
     "iopub.status.idle": "2022-01-20T18:06:00.622702Z",
     "shell.execute_reply": "2022-01-20T18:06:00.622041Z"
    },
    "papermill": {
     "duration": 0.034033,
     "end_time": "2022-01-20T18:06:00.622852",
     "exception": false,
     "start_time": "2022-01-20T18:06:00.588819",
     "status": "completed"
    },
    "tags": []
   },
   "outputs": [],
   "source": [
    "#step_4.b.hint()"
   ]
  },
  {
   "cell_type": "code",
   "execution_count": 13,
   "id": "ca5337e7",
   "metadata": {
    "execution": {
     "iopub.execute_input": "2022-01-20T18:06:00.683733Z",
     "iopub.status.busy": "2022-01-20T18:06:00.682692Z",
     "iopub.status.idle": "2022-01-20T18:06:00.688791Z",
     "shell.execute_reply": "2022-01-20T18:06:00.688105Z",
     "shell.execute_reply.started": "2022-01-19T17:21:52.520107Z"
    },
    "papermill": {
     "duration": 0.039743,
     "end_time": "2022-01-20T18:06:00.688942",
     "exception": false,
     "start_time": "2022-01-20T18:06:00.649199",
     "status": "completed"
    },
    "tags": []
   },
   "outputs": [
    {
     "data": {
      "application/javascript": [
       "parent.postMessage({\"jupyterEvent\": \"custom.exercise_interaction\", \"data\": {\"interactionType\": 3, \"questionType\": 4, \"questionId\": \"4.2_ThinkAvila\", \"learnToolsVersion\": \"0.3.4\", \"valueTowardsCompletion\": 0.0, \"failureMessage\": \"\", \"exceptionClass\": \"\", \"trace\": \"\", \"outcomeType\": 4}}, \"*\")"
      ],
      "text/plain": [
       "<IPython.core.display.Javascript object>"
      ]
     },
     "metadata": {},
     "output_type": "display_data"
    },
    {
     "data": {
      "text/markdown": [
       "<span style=\"color:#33cc99\">Solution:</span> The line chart generally dips to relatively low values around the early part of each year (in December and January), and reaches its highest values in the middle of the year (especially around May and June).  Thus, Avila Adobe usually gets more visitors in March-August (or the spring and summer months).  With this in mind, Avila Adobe could definitely benefit from hiring more seasonal employees to help with the extra work in March-August (the spring and summer)!"
      ],
      "text/plain": [
       "Solution: The line chart generally dips to relatively low values around the early part of each year (in December and January), and reaches its highest values in the middle of the year (especially around May and June).  Thus, Avila Adobe usually gets more visitors in March-August (or the spring and summer months).  With this in mind, Avila Adobe could definitely benefit from hiring more seasonal employees to help with the extra work in March-August (the spring and summer)!"
      ]
     },
     "metadata": {},
     "output_type": "display_data"
    }
   ],
   "source": [
    "# Check your answer (Run this code cell to receive credit!)\n",
    "step_4.b.solution()"
   ]
  },
  {
   "cell_type": "markdown",
   "id": "b4a360fc",
   "metadata": {
    "papermill": {
     "duration": 0.026959,
     "end_time": "2022-01-20T18:06:00.743357",
     "exception": false,
     "start_time": "2022-01-20T18:06:00.716398",
     "status": "completed"
    },
    "tags": []
   },
   "source": [
    "# Keep going\n",
    "\n",
    "Move on to learn about **[bar charts and heatmaps](https://www.kaggle.com/alexisbcook/bar-charts-and-heatmaps)** with a new dataset!"
   ]
  },
  {
   "cell_type": "markdown",
   "id": "c4343fca",
   "metadata": {
    "papermill": {
     "duration": 0.026716,
     "end_time": "2022-01-20T18:06:00.797148",
     "exception": false,
     "start_time": "2022-01-20T18:06:00.770432",
     "status": "completed"
    },
    "tags": []
   },
   "source": [
    "---\n",
    "\n",
    "\n",
    "\n",
    "\n",
    "*Have questions or comments? Visit the [course discussion forum](https://www.kaggle.com/learn/data-visualization/discussion) to chat with other learners.*"
   ]
  }
 ],
 "metadata": {
  "kernelspec": {
   "display_name": "Python 3",
   "language": "python",
   "name": "python3"
  },
  "language_info": {
   "codemirror_mode": {
    "name": "ipython",
    "version": 3
   },
   "file_extension": ".py",
   "mimetype": "text/x-python",
   "name": "python",
   "nbconvert_exporter": "python",
   "pygments_lexer": "ipython3",
   "version": "3.7.12"
  },
  "papermill": {
   "default_parameters": {},
   "duration": 15.023658,
   "end_time": "2022-01-20T18:06:01.535760",
   "environment_variables": {},
   "exception": null,
   "input_path": "__notebook__.ipynb",
   "output_path": "__notebook__.ipynb",
   "parameters": {},
   "start_time": "2022-01-20T18:05:46.512102",
   "version": "2.3.3"
  }
 },
 "nbformat": 4,
 "nbformat_minor": 5
}
